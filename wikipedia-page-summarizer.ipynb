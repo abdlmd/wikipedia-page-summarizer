{
 "cells": [
  {
   "cell_type": "code",
   "execution_count": null,
   "id": "1c9a277f-6809-4105-afb2-18918cc64048",
   "metadata": {},
   "outputs": [],
   "source": [
    "from bs4 import BeautifulSoup\n",
    "import requests\n",
    "from dotenv import load_dotenv\n",
    "import os\n",
    "from google import genai"
   ]
  },
  {
   "cell_type": "code",
   "execution_count": null,
   "id": "87649e0a-29cc-4f06-92f1-bb120da1e207",
   "metadata": {},
   "outputs": [],
   "source": [
    "load_dotenv(override=True)"
   ]
  },
  {
   "cell_type": "code",
   "execution_count": null,
   "id": "42c8ac5d-1afe-46e3-8140-ea99f647aca2",
   "metadata": {},
   "outputs": [],
   "source": [
    "api_key = os.getenv('GEMINI_API_KEY')"
   ]
  },
  {
   "cell_type": "code",
   "execution_count": null,
   "id": "a4d647a6-0708-43c5-86bb-1b0a5e0423c9",
   "metadata": {},
   "outputs": [],
   "source": [
    "client = genai.Client()"
   ]
  },
  {
   "cell_type": "code",
   "execution_count": null,
   "id": "2f6fb90e-0e5c-4fd8-b5b1-682cbea3fc0e",
   "metadata": {},
   "outputs": [],
   "source": [
    "from bs4 import BeautifulSoup\n",
    "import requests\n",
    "def get_page(url):\n",
    "\n",
    "    scraped_text=requests.get(url).text\n",
    "    soap=BeautifulSoup(scraped_text,'lxml')\n",
    "    title=soap.find(\"span\",class_=\"mw-page-title-main\").text\n",
    "    main_text=soap.find(\"div\",class_=\"mw-content-ltr mw-parser-output\").get_text()\n",
    "    return [title,main_text]"
   ]
  },
  {
   "cell_type": "code",
   "execution_count": null,
   "id": "8d5ec0c2-b65e-4e89-8b82-094becbdf4da",
   "metadata": {},
   "outputs": [],
   "source": [
    "data=get_page(\"https://en.wikipedia.org/wiki/Cristiano_Ronaldo\")"
   ]
  },
  {
   "cell_type": "code",
   "execution_count": null,
   "id": "cd504153-e1eb-40e4-87c4-e8a2a7806071",
   "metadata": {},
   "outputs": [],
   "source": [
    "title=data[0]\n",
    "content=data[1]"
   ]
  },
  {
   "cell_type": "code",
   "execution_count": null,
   "id": "33d1d277-ecbf-4baa-bbfc-27c1d9500afc",
   "metadata": {},
   "outputs": [],
   "source": [
    "def prompt(page_title,page_content):\n",
    "    user_prompt=\"This is the wikipedia page of \"\n",
    "    user_prompt+=page_title\n",
    "    user_prompt+=\" and you have to summarize this wikipedia page with the main points as heading, following is the content it has \"\n",
    "    user_prompt+=page_content\n",
    "    return user_prompt"
   ]
  },
  {
   "cell_type": "code",
   "execution_count": null,
   "id": "60594167-0fc8-40da-bcaa-9e9eeeaa9a82",
   "metadata": {},
   "outputs": [],
   "source": [
    "user_prompt=(title,content)\n"
   ]
  },
  {
   "cell_type": "code",
   "execution_count": null,
   "id": "310e47e5-72aa-44cf-a03f-6c10eacdb37c",
   "metadata": {},
   "outputs": [],
   "source": [
    "print(\"Please Wait while we summarize the page for you!\")\n",
    "response = client.models.generate_content(\n",
    "    model=\"gemini-2.5-flash\", contents=user_prompt\n",
    ")\n",
    "print(f\"Here is the summary of {title} \\n\")\n",
    "print(response.text)"
   ]
  },
  {
   "cell_type": "code",
   "execution_count": null,
   "id": "38177e13-fdf7-4721-97ce-9d584ab03ae4",
   "metadata": {},
   "outputs": [],
   "source": []
  }
 ],
 "metadata": {
  "kernelspec": {
   "display_name": "Python 3 (ipykernel)",
   "language": "python",
   "name": "python3"
  },
  "language_info": {
   "codemirror_mode": {
    "name": "ipython",
    "version": 3
   },
   "file_extension": ".py",
   "mimetype": "text/x-python",
   "name": "python",
   "nbconvert_exporter": "python",
   "pygments_lexer": "ipython3",
   "version": "3.11.0"
  }
 },
 "nbformat": 4,
 "nbformat_minor": 5
}
